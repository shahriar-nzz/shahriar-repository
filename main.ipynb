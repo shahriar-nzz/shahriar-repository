{
 "cells": [
  {
   "cell_type": "code",
   "execution_count": 325,
   "id": "705794a0",
   "metadata": {},
   "outputs": [],
   "source": [
    "import re\n",
    "from datetime import datetime as dt\n",
    "import datetime\n",
    "from collections import defaultdict\n",
    "import yaml\n",
    "from time import time\n",
    "import plotly.graph_objects as go\n",
    "import numpy as np"
   ]
  },
  {
   "cell_type": "markdown",
   "id": "fe566d9d",
   "metadata": {},
   "source": [
    "# Functions"
   ]
  },
  {
   "cell_type": "code",
   "execution_count": 326,
   "id": "d7c50725",
   "metadata": {},
   "outputs": [],
   "source": [
    "\n",
    "def epoch_idx_finder(lines, pattern):\n",
    "    idx = []\n",
    "\n",
    "    for i, line in enumerate(lines):\n",
    "        match = re.match(pattern, line)\n",
    "\n",
    "        if match:\n",
    "            idx.append(i)\n",
    "        else:\n",
    "            continue\n",
    "\n",
    "    return idx\n",
    "\n",
    "\n",
    "def nav_epoch_pattern(prn=\"A\"):\n",
    "    \n",
    "    if len(prn) == 1:\n",
    "        if prn in \"A\":\n",
    "            epoch_pattern = \"^[GERSC]\\s*\\d+ \"\n",
    "        elif prn in \"GERSCJ\":\n",
    "            epoch_pattern = f\"^{prn}\\s*\\d+ \"\n",
    "\n",
    "    elif len(prn) > 1 and prn[1] in \"1234567890\":\n",
    "        epoch_pattern = f\"^{prn[0]}\\s*{prn[1:]} \"\n",
    "\n",
    "    else:\n",
    "        raise ValueError\n",
    "\n",
    "    return epoch_pattern\n",
    "\n",
    "\n",
    "def num_lines_nav(idx, nav_lines):\n",
    "\n",
    "    i = 1\n",
    "    line = nav_lines[idx + i]\n",
    "\n",
    "    while not re.match(r\"^[GERSCJ]\\s*\\d+\", line):\n",
    "        i += 1\n",
    "        try:\n",
    "            line = nav_lines[idx + i]\n",
    "        except IndexError:\n",
    "            break\n",
    "\n",
    "    return i\n",
    "\n",
    "def nav_pattern_finder(schema, epoch):\n",
    "\n",
    "    result = {}\n",
    "    for i, (line, schema_line) in enumerate(zip(epoch, schema)):\n",
    "        pattern = \"\".join(\n",
    "            f\"(?P<{f['name']}>{f['pattern']})\" for f in schema_line[\"fields\"]\n",
    "        )\n",
    "        match = re.match(pattern, line.strip())\n",
    "        if not match:\n",
    "            print(f\"خط {i+1} match نشد ❌\")\n",
    "            continue\n",
    "\n",
    "        for key, value in match.groupdict().items():\n",
    "            # print(match.groupdict())\n",
    "            # print(key, value)\n",
    "            if key == \"prn\":\n",
    "                result[key] = value\n",
    "                continue\n",
    "\n",
    "            if key in {\"year\", \"month\", \"day\", \"hour\", \"minute\"}:\n",
    "                value = int(float(value))\n",
    "\n",
    "                if key == \"year\" and value < 100:\n",
    "                    value += 2000\n",
    "\n",
    "            else:\n",
    "                if \"D\" in value:\n",
    "                    value = value.replace(\"D\", \"E\")\n",
    "                value = float(value)\n",
    "\n",
    "            result[key] = value\n",
    "\n",
    "    return result\n",
    "\n",
    "\n",
    "def make_nav_dataframe(dataframe, epoch_items):\n",
    "\n",
    "    prn, year, month, day, hour, minute, second = (\n",
    "        epoch_items[\"prn\"],\n",
    "        epoch_items[\"year\"],\n",
    "        epoch_items[\"month\"],\n",
    "        epoch_items[\"day\"],\n",
    "        epoch_items[\"hour\"],\n",
    "        epoch_items[\"minute\"],\n",
    "        epoch_items[\"second\"],\n",
    "    )\n",
    "    epoche_date = dt(year, month, day, hour, minute, int(second))\n",
    "    dataframe[prn][epoche_date] = epoch_items\n",
    "    return dataframe\n",
    "\n",
    "\n",
    "def navigation_reader(address, prn=\"A\"):\n",
    "    with open(address, \"r\") as file:\n",
    "        nav_lines = file.readlines()\n",
    "        \n",
    "    with open(\"hw3_test.yaml\", \"r\") as file:\n",
    "        schema = yaml.safe_load(file)[\"nav_block\"]\n",
    "\n",
    "    nav_data = defaultdict(dict)\n",
    "\n",
    "    epoch_pattern = nav_epoch_pattern(prn)\n",
    "    epoch_idx = epoch_idx_finder(nav_lines, epoch_pattern)\n",
    "\n",
    "    for idx in epoch_idx:\n",
    "        j = num_lines_nav(idx, nav_lines)\n",
    "        full_epoch_lines = nav_lines[idx : idx + j]\n",
    "\n",
    "        res = nav_pattern_finder(schema, full_epoch_lines)\n",
    "        nav_data = make_nav_dataframe(nav_data, res)\n",
    "\n",
    "    return nav_data"
   ]
  },
  {
   "cell_type": "code",
   "execution_count": 327,
   "id": "183ef28b",
   "metadata": {},
   "outputs": [],
   "source": [
    "def calc_tk(te, toe):\n",
    "\n",
    "    tk = te - toe\n",
    "    if tk > 302400:\n",
    "        tk -= 604800\n",
    "\n",
    "    elif tk < -302400:\n",
    "        tk += 604800\n",
    "\n",
    "    return tk\n",
    "\n",
    "\n",
    "def solve_kepler(M, e, tol=1e-12, max_iter=100):\n",
    "    E = M  # حدس اولیه\n",
    "    for _ in range(max_iter):\n",
    "        f = E - e * np.sin(E) - M\n",
    "        f_prime = 1 - e * np.cos(E)\n",
    "        delta = f / f_prime\n",
    "        E_new = E - delta\n",
    "        if abs(delta) < tol:\n",
    "            return E_new\n",
    "        E = E_new\n",
    "    raise RuntimeError(\"Kepler equation did not converge\")\n",
    "\n",
    "\n",
    "def calc_gps_time(dtime):\n",
    "    gps_epoch = dt(1980, 1, 6, 0, 0, 0)\n",
    "    delta = dtime - gps_epoch\n",
    "    total_seconds = delta.total_seconds()\n",
    "    gps_week = int(total_seconds // 604800)\n",
    "    seconds_of_week = total_seconds % 604800\n",
    "\n",
    "    return gps_week, seconds_of_week\n",
    "\n",
    "\n",
    "def calc_gps_seconds(dtime):\n",
    "    gps_epoch = dt(1980, 1, 6, 0, 0, 0)\n",
    "    delta = dtime - gps_epoch\n",
    "    return delta.total_seconds()\n",
    "\n",
    "\n",
    "def eci_to_ecef(Xeci, Yeci, Zeci, tk, omega_e=7.2921151467e-5):\n",
    "\n",
    "    theta = omega_e * tk\n",
    "\n",
    "    Xecef = np.cos(theta) * Xeci + np.sin(theta) * Yeci\n",
    "    Yecef = -np.sin(theta) * Xeci + np.cos(theta) * Yeci\n",
    "    Zecef = Zeci\n",
    "\n",
    "    return Xecef, Yecef, Zecef"
   ]
  },
  {
   "cell_type": "markdown",
   "id": "1afa7614",
   "metadata": {},
   "source": [
    "# Main Part"
   ]
  },
  {
   "cell_type": "code",
   "execution_count": null,
   "id": "37734f7f",
   "metadata": {},
   "outputs": [
    {
     "name": "stdout",
     "output_type": "stream",
     "text": [
      "total time: 0.02141261100769043\n"
     ]
    }
   ],
   "source": [
    "nav_data = navigation_reader('./GODS00USA_R_20240010000_01D_GN.rnx', 'G') # read navigation file\n",
    "prn = \"G07\" # choose what gps to calculate\n",
    "\n",
    "toe_list = np.array(list(nav_data[prn].keys()))\n",
    "te_list = []\n",
    "t_start = toe_list[0]\n",
    "t_end = toe_list[-1]\n",
    "\n",
    "current_time = t_start\n",
    "while current_time <= t_end:\n",
    "    te_list.append(current_time)\n",
    "    current_time += datetime.timedelta(seconds=300)\n",
    "\n",
    "mu, omega_e = 3.986005e14, 7.2921151467e-5\n",
    "Xecef_list, Yecef_list, Zecef_list = [], [], []\n",
    "Xeci_list, Yeci_list, Zeci_list = [], [], []\n",
    "t = []\n",
    "\n",
    "for te in te_list:\n",
    "    t1 = time()\n",
    "\n",
    "    \n",
    "    \"\"\"  \n",
    "    here is the part i guss my problem is:\n",
    "    i thin problem is whtitin tk or toe (time of ephemeris) \"\"\"\n",
    "    \n",
    "    \n",
    "    toe = toe_list[np.argmin(np.abs(te - toe_list))]\n",
    "    \n",
    "    \"\"\"this part (toe = toe_list[np.argmin(np.abs(te - toe_list))]) \n",
    "    is trying to find and use nearest epoch for each time (te - time of emission)\"\"\"\n",
    "    \n",
    "    # toe = toe_list[3]\n",
    "    \n",
    "    \"\"\" when i use only one epoch to calculate satellite position i (e.g. toe = toe_list[3])\n",
    "    the orbit is right . but this use is wrong from what i leared.\n",
    "    \"\"\"\n",
    "\n",
    "    M0 = nav_data[prn][toe][\"M0\"]\n",
    "    dn = nav_data[prn][toe][\"dn\"]\n",
    "    a = (nav_data[prn][toe][\"sqrtA\"]) ** 2\n",
    "    e = nav_data[prn][toe][\"e\"]\n",
    "    omega = nav_data[prn][toe][\"omega\"]\n",
    "    Cuc = nav_data[prn][toe][\"Cuc\"]\n",
    "    Cus = nav_data[prn][toe][\"Cus\"]\n",
    "    Crc = nav_data[prn][toe][\"Crc\"]\n",
    "    Crs = nav_data[prn][toe][\"Crs\"]\n",
    "    Cic = nav_data[prn][toe][\"Cic\"]\n",
    "    Cis = nav_data[prn][toe][\"Cis\"]\n",
    "    i0 = nav_data[prn][toe][\"i0\"]\n",
    "    i_dot = nav_data[prn][toe][\"i_dot\"]\n",
    "    Omega0 = nav_data[prn][toe][\"Omega0\"]\n",
    "    Omega_dot = nav_data[prn][toe][\"Omega_dot\"]\n",
    "\n",
    "    _, toe = calc_gps_time(toe)\n",
    "    _, te = calc_gps_time(te)\n",
    "\n",
    "    tk = calc_tk(te, toe)\n",
    "\n",
    "\n",
    "    Mk = M0 + ((np.sqrt(mu) / np.sqrt(a**3)) + dn) * tk\n",
    "    Ek = solve_kepler(Mk, e)\n",
    "\n",
    "    Mk = np.mod(Mk, 2 * np.pi)\n",
    "    Ek = np.mod(Ek, 2 * np.pi)\n",
    "\n",
    "    teta_k = np.arctan2((np.sin(Ek) * np.sqrt(1 - e**2)), (np.cos(Ek) - e))\n",
    "\n",
    "    uk = (\n",
    "        omega\n",
    "        + teta_k\n",
    "        + Cuc * np.cos(2 * (omega + teta_k))\n",
    "        + Cus * np.sin(2 * (omega + teta_k))\n",
    "    )\n",
    "    rk = (\n",
    "        a * (1 - e * np.cos(Ek))\n",
    "        + Crc * np.cos(2 * (omega + teta_k))\n",
    "        + Crs * np.sin(2 * (omega + teta_k))\n",
    "    )\n",
    "    ik = (\n",
    "        i0\n",
    "        + i_dot * tk\n",
    "        + Cic * np.cos(2 * (omega + teta_k))\n",
    "        + Cis * np.sin(2 * (omega + teta_k))\n",
    "    )\n",
    "\n",
    "    landa_k = Omega0 + (Omega_dot - omega_e) * tk + omega_e * toe\n",
    "    landa_k = np.mod(landa_k, 2 * np.pi)  ##############\n",
    "\n",
    "    Omega_k = Omega0 + Omega_dot * tk\n",
    "\n",
    "    xp = rk * np.cos(uk)\n",
    "    yp = rk * np.sin(uk)\n",
    "\n",
    "    Xecef = xp * np.cos(landa_k) - yp * np.cos(ik) * np.sin(landa_k)\n",
    "    Yecef = xp * np.sin(landa_k) + yp * np.cos(ik) * np.cos(landa_k)\n",
    "    Zecef = yp * np.sin(ik)\n",
    "\n",
    "    Xeci = xp * np.cos(Omega_k) - yp * np.cos(ik) * np.sin(Omega_k)\n",
    "    Yeci = xp * np.sin(Omega_k) + yp * np.cos(ik) * np.cos(Omega_k)\n",
    "    Zeci = yp * np.sin(ik)\n",
    "\n",
    "    # Xecef, Yecef, Zecef = eci_to_ecef(Xeci, Yeci, Zeci, tk)\n",
    "    # r_eci = np.array([Xeci, Yeci, Zeci])\n",
    "\n",
    "    # r_ecef_converted = eci_to_ecef_vector(r_eci, tk)\n",
    "\n",
    "    # Xecef, Yecef, Zecef = r_ecef_converted[0], r_ecef_converted[1], r_ecef_converted[2]\n",
    "    # # print(r_ecef_converted)\n",
    "\n",
    "    # Xecef_list.append(Xecef)\n",
    "    # Yecef_list.append(Yecef)\n",
    "    # Zecef_list.append(Zecef)\n",
    "\n",
    "    Xecef_list.append(Xecef)\n",
    "    Yecef_list.append(Yecef)\n",
    "    Zecef_list.append(Zecef)\n",
    "\n",
    "    Xeci_list.append(Xeci)\n",
    "    Yeci_list.append(Yeci)\n",
    "    Zeci_list.append(Zeci)\n",
    "\n",
    "    t.append(time() - t1)\n",
    "\n",
    "\n",
    "r_eci = np.array([Xeci_list, Yeci_list, Zeci_list])\n",
    "r_ecef = np.array([Xecef_list, Yecef_list, Zecef_list])\n",
    "\n",
    "print( f'total time: {np.sum(t)}' )"
   ]
  },
  {
   "cell_type": "code",
   "execution_count": 329,
   "id": "5c3356a7",
   "metadata": {},
   "outputs": [
    {
     "data": {
      "application/vnd.plotly.v1+json": {
       "config": {
        "plotlyServerURL": "https://plot.ly"
       },
       "data": [
        {
         "mode": "lines",
         "name": "ECI",
         "type": "scatter3d",
         "x": {
          "bdata": "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",
          "dtype": "f8"
         },
         "y": {
          "bdata": "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",
          "dtype": "f8"
         },
         "z": {
          "bdata": "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",
          "dtype": "f8"
         }
        },
        {
         "mode": "lines",
         "name": "ECEF",
         "type": "scatter3d",
         "x": {
          "bdata": "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",
          "dtype": "f8"
         },
         "y": {
          "bdata": "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",
          "dtype": "f8"
         },
         "z": {
          "bdata": "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",
          "dtype": "f8"
         }
        },
        {
         "marker": {
          "color": "red",
          "size": 8
         },
         "mode": "markers",
         "name": "Earth center",
         "type": "scatter3d",
         "x": [
          0
         ],
         "y": [
          0
         ],
         "z": [
          0
         ]
        }
       ],
       "layout": {
        "height": 800,
        "scene": {
         "aspectmode": "data",
         "xaxis": {
          "title": {
           "text": "X (m)"
          }
         },
         "yaxis": {
          "title": {
           "text": "Y (m)"
          }
         },
         "zaxis": {
          "title": {
           "text": "Z (m)"
          }
         }
        },
        "template": {
         "data": {
          "bar": [
           {
            "error_x": {
             "color": "#2a3f5f"
            },
            "error_y": {
             "color": "#2a3f5f"
            },
            "marker": {
             "line": {
              "color": "#E5ECF6",
              "width": 0.5
             },
             "pattern": {
              "fillmode": "overlay",
              "size": 10,
              "solidity": 0.2
             }
            },
            "type": "bar"
           }
          ],
          "barpolar": [
           {
            "marker": {
             "line": {
              "color": "#E5ECF6",
              "width": 0.5
             },
             "pattern": {
              "fillmode": "overlay",
              "size": 10,
              "solidity": 0.2
             }
            },
            "type": "barpolar"
           }
          ],
          "carpet": [
           {
            "aaxis": {
             "endlinecolor": "#2a3f5f",
             "gridcolor": "white",
             "linecolor": "white",
             "minorgridcolor": "white",
             "startlinecolor": "#2a3f5f"
            },
            "baxis": {
             "endlinecolor": "#2a3f5f",
             "gridcolor": "white",
             "linecolor": "white",
             "minorgridcolor": "white",
             "startlinecolor": "#2a3f5f"
            },
            "type": "carpet"
           }
          ],
          "choropleth": [
           {
            "colorbar": {
             "outlinewidth": 0,
             "ticks": ""
            },
            "type": "choropleth"
           }
          ],
          "contour": [
           {
            "colorbar": {
             "outlinewidth": 0,
             "ticks": ""
            },
            "colorscale": [
             [
              0,
              "#0d0887"
             ],
             [
              0.1111111111111111,
              "#46039f"
             ],
             [
              0.2222222222222222,
              "#7201a8"
             ],
             [
              0.3333333333333333,
              "#9c179e"
             ],
             [
              0.4444444444444444,
              "#bd3786"
             ],
             [
              0.5555555555555556,
              "#d8576b"
             ],
             [
              0.6666666666666666,
              "#ed7953"
             ],
             [
              0.7777777777777778,
              "#fb9f3a"
             ],
             [
              0.8888888888888888,
              "#fdca26"
             ],
             [
              1,
              "#f0f921"
             ]
            ],
            "type": "contour"
           }
          ],
          "contourcarpet": [
           {
            "colorbar": {
             "outlinewidth": 0,
             "ticks": ""
            },
            "type": "contourcarpet"
           }
          ],
          "heatmap": [
           {
            "colorbar": {
             "outlinewidth": 0,
             "ticks": ""
            },
            "colorscale": [
             [
              0,
              "#0d0887"
             ],
             [
              0.1111111111111111,
              "#46039f"
             ],
             [
              0.2222222222222222,
              "#7201a8"
             ],
             [
              0.3333333333333333,
              "#9c179e"
             ],
             [
              0.4444444444444444,
              "#bd3786"
             ],
             [
              0.5555555555555556,
              "#d8576b"
             ],
             [
              0.6666666666666666,
              "#ed7953"
             ],
             [
              0.7777777777777778,
              "#fb9f3a"
             ],
             [
              0.8888888888888888,
              "#fdca26"
             ],
             [
              1,
              "#f0f921"
             ]
            ],
            "type": "heatmap"
           }
          ],
          "histogram": [
           {
            "marker": {
             "pattern": {
              "fillmode": "overlay",
              "size": 10,
              "solidity": 0.2
             }
            },
            "type": "histogram"
           }
          ],
          "histogram2d": [
           {
            "colorbar": {
             "outlinewidth": 0,
             "ticks": ""
            },
            "colorscale": [
             [
              0,
              "#0d0887"
             ],
             [
              0.1111111111111111,
              "#46039f"
             ],
             [
              0.2222222222222222,
              "#7201a8"
             ],
             [
              0.3333333333333333,
              "#9c179e"
             ],
             [
              0.4444444444444444,
              "#bd3786"
             ],
             [
              0.5555555555555556,
              "#d8576b"
             ],
             [
              0.6666666666666666,
              "#ed7953"
             ],
             [
              0.7777777777777778,
              "#fb9f3a"
             ],
             [
              0.8888888888888888,
              "#fdca26"
             ],
             [
              1,
              "#f0f921"
             ]
            ],
            "type": "histogram2d"
           }
          ],
          "histogram2dcontour": [
           {
            "colorbar": {
             "outlinewidth": 0,
             "ticks": ""
            },
            "colorscale": [
             [
              0,
              "#0d0887"
             ],
             [
              0.1111111111111111,
              "#46039f"
             ],
             [
              0.2222222222222222,
              "#7201a8"
             ],
             [
              0.3333333333333333,
              "#9c179e"
             ],
             [
              0.4444444444444444,
              "#bd3786"
             ],
             [
              0.5555555555555556,
              "#d8576b"
             ],
             [
              0.6666666666666666,
              "#ed7953"
             ],
             [
              0.7777777777777778,
              "#fb9f3a"
             ],
             [
              0.8888888888888888,
              "#fdca26"
             ],
             [
              1,
              "#f0f921"
             ]
            ],
            "type": "histogram2dcontour"
           }
          ],
          "mesh3d": [
           {
            "colorbar": {
             "outlinewidth": 0,
             "ticks": ""
            },
            "type": "mesh3d"
           }
          ],
          "parcoords": [
           {
            "line": {
             "colorbar": {
              "outlinewidth": 0,
              "ticks": ""
             }
            },
            "type": "parcoords"
           }
          ],
          "pie": [
           {
            "automargin": true,
            "type": "pie"
           }
          ],
          "scatter": [
           {
            "fillpattern": {
             "fillmode": "overlay",
             "size": 10,
             "solidity": 0.2
            },
            "type": "scatter"
           }
          ],
          "scatter3d": [
           {
            "line": {
             "colorbar": {
              "outlinewidth": 0,
              "ticks": ""
             }
            },
            "marker": {
             "colorbar": {
              "outlinewidth": 0,
              "ticks": ""
             }
            },
            "type": "scatter3d"
           }
          ],
          "scattercarpet": [
           {
            "marker": {
             "colorbar": {
              "outlinewidth": 0,
              "ticks": ""
             }
            },
            "type": "scattercarpet"
           }
          ],
          "scattergeo": [
           {
            "marker": {
             "colorbar": {
              "outlinewidth": 0,
              "ticks": ""
             }
            },
            "type": "scattergeo"
           }
          ],
          "scattergl": [
           {
            "marker": {
             "colorbar": {
              "outlinewidth": 0,
              "ticks": ""
             }
            },
            "type": "scattergl"
           }
          ],
          "scattermap": [
           {
            "marker": {
             "colorbar": {
              "outlinewidth": 0,
              "ticks": ""
             }
            },
            "type": "scattermap"
           }
          ],
          "scattermapbox": [
           {
            "marker": {
             "colorbar": {
              "outlinewidth": 0,
              "ticks": ""
             }
            },
            "type": "scattermapbox"
           }
          ],
          "scatterpolar": [
           {
            "marker": {
             "colorbar": {
              "outlinewidth": 0,
              "ticks": ""
             }
            },
            "type": "scatterpolar"
           }
          ],
          "scatterpolargl": [
           {
            "marker": {
             "colorbar": {
              "outlinewidth": 0,
              "ticks": ""
             }
            },
            "type": "scatterpolargl"
           }
          ],
          "scatterternary": [
           {
            "marker": {
             "colorbar": {
              "outlinewidth": 0,
              "ticks": ""
             }
            },
            "type": "scatterternary"
           }
          ],
          "surface": [
           {
            "colorbar": {
             "outlinewidth": 0,
             "ticks": ""
            },
            "colorscale": [
             [
              0,
              "#0d0887"
             ],
             [
              0.1111111111111111,
              "#46039f"
             ],
             [
              0.2222222222222222,
              "#7201a8"
             ],
             [
              0.3333333333333333,
              "#9c179e"
             ],
             [
              0.4444444444444444,
              "#bd3786"
             ],
             [
              0.5555555555555556,
              "#d8576b"
             ],
             [
              0.6666666666666666,
              "#ed7953"
             ],
             [
              0.7777777777777778,
              "#fb9f3a"
             ],
             [
              0.8888888888888888,
              "#fdca26"
             ],
             [
              1,
              "#f0f921"
             ]
            ],
            "type": "surface"
           }
          ],
          "table": [
           {
            "cells": {
             "fill": {
              "color": "#EBF0F8"
             },
             "line": {
              "color": "white"
             }
            },
            "header": {
             "fill": {
              "color": "#C8D4E3"
             },
             "line": {
              "color": "white"
             }
            },
            "type": "table"
           }
          ]
         },
         "layout": {
          "annotationdefaults": {
           "arrowcolor": "#2a3f5f",
           "arrowhead": 0,
           "arrowwidth": 1
          },
          "autotypenumbers": "strict",
          "coloraxis": {
           "colorbar": {
            "outlinewidth": 0,
            "ticks": ""
           }
          },
          "colorscale": {
           "diverging": [
            [
             0,
             "#8e0152"
            ],
            [
             0.1,
             "#c51b7d"
            ],
            [
             0.2,
             "#de77ae"
            ],
            [
             0.3,
             "#f1b6da"
            ],
            [
             0.4,
             "#fde0ef"
            ],
            [
             0.5,
             "#f7f7f7"
            ],
            [
             0.6,
             "#e6f5d0"
            ],
            [
             0.7,
             "#b8e186"
            ],
            [
             0.8,
             "#7fbc41"
            ],
            [
             0.9,
             "#4d9221"
            ],
            [
             1,
             "#276419"
            ]
           ],
           "sequential": [
            [
             0,
             "#0d0887"
            ],
            [
             0.1111111111111111,
             "#46039f"
            ],
            [
             0.2222222222222222,
             "#7201a8"
            ],
            [
             0.3333333333333333,
             "#9c179e"
            ],
            [
             0.4444444444444444,
             "#bd3786"
            ],
            [
             0.5555555555555556,
             "#d8576b"
            ],
            [
             0.6666666666666666,
             "#ed7953"
            ],
            [
             0.7777777777777778,
             "#fb9f3a"
            ],
            [
             0.8888888888888888,
             "#fdca26"
            ],
            [
             1,
             "#f0f921"
            ]
           ],
           "sequentialminus": [
            [
             0,
             "#0d0887"
            ],
            [
             0.1111111111111111,
             "#46039f"
            ],
            [
             0.2222222222222222,
             "#7201a8"
            ],
            [
             0.3333333333333333,
             "#9c179e"
            ],
            [
             0.4444444444444444,
             "#bd3786"
            ],
            [
             0.5555555555555556,
             "#d8576b"
            ],
            [
             0.6666666666666666,
             "#ed7953"
            ],
            [
             0.7777777777777778,
             "#fb9f3a"
            ],
            [
             0.8888888888888888,
             "#fdca26"
            ],
            [
             1,
             "#f0f921"
            ]
           ]
          },
          "colorway": [
           "#636efa",
           "#EF553B",
           "#00cc96",
           "#ab63fa",
           "#FFA15A",
           "#19d3f3",
           "#FF6692",
           "#B6E880",
           "#FF97FF",
           "#FECB52"
          ],
          "font": {
           "color": "#2a3f5f"
          },
          "geo": {
           "bgcolor": "white",
           "lakecolor": "white",
           "landcolor": "#E5ECF6",
           "showlakes": true,
           "showland": true,
           "subunitcolor": "white"
          },
          "hoverlabel": {
           "align": "left"
          },
          "hovermode": "closest",
          "mapbox": {
           "style": "light"
          },
          "paper_bgcolor": "white",
          "plot_bgcolor": "#E5ECF6",
          "polar": {
           "angularaxis": {
            "gridcolor": "white",
            "linecolor": "white",
            "ticks": ""
           },
           "bgcolor": "#E5ECF6",
           "radialaxis": {
            "gridcolor": "white",
            "linecolor": "white",
            "ticks": ""
           }
          },
          "scene": {
           "xaxis": {
            "backgroundcolor": "#E5ECF6",
            "gridcolor": "white",
            "gridwidth": 2,
            "linecolor": "white",
            "showbackground": true,
            "ticks": "",
            "zerolinecolor": "white"
           },
           "yaxis": {
            "backgroundcolor": "#E5ECF6",
            "gridcolor": "white",
            "gridwidth": 2,
            "linecolor": "white",
            "showbackground": true,
            "ticks": "",
            "zerolinecolor": "white"
           },
           "zaxis": {
            "backgroundcolor": "#E5ECF6",
            "gridcolor": "white",
            "gridwidth": 2,
            "linecolor": "white",
            "showbackground": true,
            "ticks": "",
            "zerolinecolor": "white"
           }
          },
          "shapedefaults": {
           "line": {
            "color": "#2a3f5f"
           }
          },
          "ternary": {
           "aaxis": {
            "gridcolor": "white",
            "linecolor": "white",
            "ticks": ""
           },
           "baxis": {
            "gridcolor": "white",
            "linecolor": "white",
            "ticks": ""
           },
           "bgcolor": "#E5ECF6",
           "caxis": {
            "gridcolor": "white",
            "linecolor": "white",
            "ticks": ""
           }
          },
          "title": {
           "x": 0.05
          },
          "xaxis": {
           "automargin": true,
           "gridcolor": "white",
           "linecolor": "white",
           "ticks": "",
           "title": {
            "standoff": 15
           },
           "zerolinecolor": "white",
           "zerolinewidth": 2
          },
          "yaxis": {
           "automargin": true,
           "gridcolor": "white",
           "linecolor": "white",
           "ticks": "",
           "title": {
            "standoff": 15
           },
           "zerolinecolor": "white",
           "zerolinewidth": 2
          }
         }
        },
        "title": {
         "text": "Satellite Orbits in ECI and ECEF frames"
        },
        "width": 1000
       }
      }
     },
     "metadata": {},
     "output_type": "display_data"
    }
   ],
   "source": [
    "fig = go.Figure()\n",
    "\n",
    "# مسیر ECI\n",
    "fig.add_trace(go.Scatter3d(\n",
    "    x=r_eci[0], y=r_eci[1], z=r_eci[2],\n",
    "    mode='lines',\n",
    "    name='ECI',\n",
    "    # line=dict(color='blue')\n",
    "))\n",
    "\n",
    "# مسیر ECEF\n",
    "fig.add_trace(go.Scatter3d(\n",
    "    x=r_ecef[0], y=r_ecef[1], z=r_ecef[2],\n",
    "    mode='lines',\n",
    "    name='ECEF',\n",
    "    # line=dict(color='green')\n",
    "))\n",
    "\n",
    "# مرکز زمین (نقطه 0,0,0)\n",
    "fig.add_trace(go.Scatter3d(\n",
    "    x=[0], y=[0], z=[0],\n",
    "    mode='markers',\n",
    "    marker=dict(size=8, color='red'),\n",
    "    name='Earth center'\n",
    "))\n",
    "\n",
    "# تنظیمات شکل و اندازه\n",
    "fig.update_layout(\n",
    "    width=1000,\n",
    "    height=800,\n",
    "    scene=dict(\n",
    "        xaxis_title='X (m)',\n",
    "        yaxis_title='Y (m)',\n",
    "        zaxis_title='Z (m)'\n",
    "    ),\n",
    "    scene_aspectmode='data',\n",
    "    title='Satellite Orbits in ECI and ECEF frames'\n",
    ")\n",
    "\n",
    "fig.show()\n"
   ]
  }
 ],
 "metadata": {
  "kernelspec": {
   "display_name": "Python 3",
   "language": "python",
   "name": "python3"
  },
  "language_info": {
   "codemirror_mode": {
    "name": "ipython",
    "version": 3
   },
   "file_extension": ".py",
   "mimetype": "text/x-python",
   "name": "python",
   "nbconvert_exporter": "python",
   "pygments_lexer": "ipython3",
   "version": "3.11.0"
  }
 },
 "nbformat": 4,
 "nbformat_minor": 5
}
